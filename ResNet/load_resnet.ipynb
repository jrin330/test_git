{
 "cells": [
  {
   "cell_type": "code",
   "execution_count": null,
   "metadata": {},
   "outputs": [],
   "source": [
    "import torch\n",
    "import torchvision\n",
    "\n",
    "device = \"cuda\" if torch.cuda.is_available() else \"cpu\"\n",
    "torch.cuda.manual_seed(777)\n",
    "if device == \"cuda\":\n",
    "  torch.cuda.manual_seed_all(777)\n",
    "\n",
    "model = torch.load('resnet101.pt', device = device)"
   ]
  },
  {
   "cell_type": "code",
   "execution_count": null,
   "metadata": {},
   "outputs": [],
   "source": [
    "from torch.utils.data import DataLoader\n",
    "from torchvision.transforms import transforms\n",
    "\n",
    "test_path = './test'"
   ]
  },
  {
   "cell_type": "code",
   "execution_count": null,
   "metadata": {},
   "outputs": [],
   "source": [
    "resize_trans = transforms.Compose([\n",
    "\ttransforms.Resize((256,256)),\n",
    " transforms.ToTensor()\n",
    "])\n",
    "\n",
    "resize_test = torchvision.datasets.ImageFolder(root = test_path, transform = resize_trans)\n",
    "\n",
    "transform_test = transforms.Compose([\n",
    "\ttransforms.Resize((256,256)),\n",
    " \ttransforms.CenterCrop(224),\n",
    "\ttransforms.ToTensor(),\n",
    "  transforms.Normalize((0.5,0.5,0.5),(0.5,0.5,0.5))\n",
    "])\n",
    "\n",
    "testset = torchvision.datasets.ImageFolder(root = test_path, transform=transform_test)\n",
    "\n",
    "testloader = DataLoader(testset, batch_size=4, shuffle=False)"
   ]
  },
  {
   "cell_type": "code",
   "execution_count": null,
   "metadata": {},
   "outputs": [],
   "source": [
    "def get_representation(model, iterator):\n",
    "  \n",
    "  model.eval()\n",
    "  \n",
    "  outputs = []\n",
    "  labels = []\n",
    "  \n",
    "  with torch.no_grad():\n",
    "    for (x,y) in iterator:\n",
    "      \n",
    "      x = x.to(device)\n",
    "      \n",
    "      y_pred = model(x)\n",
    "      \n",
    "      outputs.append(y_pred.cpu())\n",
    "      labels.append(y)\n",
    "      \n",
    "  outputs = torch.cat(outputs, dim = 0)\n",
    "  labels = torch.cat(labels, dim = 0)\n",
    "  \n",
    "  return outputs, labels"
   ]
  },
  {
   "cell_type": "code",
   "execution_count": null,
   "metadata": {},
   "outputs": [],
   "source": [
    "testoutputs, testlabels = get_representation(model, testloader)"
   ]
  },
  {
   "cell_type": "code",
   "execution_count": null,
   "metadata": {},
   "outputs": [],
   "source": [
    "import sklearn\n",
    "from sklearn import manifold\n",
    "import matplotlib.pyplot as plt"
   ]
  },
  {
   "cell_type": "code",
   "execution_count": null,
   "metadata": {},
   "outputs": [],
   "source": [
    "def plot_representation(data, labels, classes=None,n_Images=None):\n",
    "  if n_Images is not None:\n",
    "    data = data[:n_Images]\n",
    "    labels = labels[:n_Images]\n",
    "    \n",
    "  fig = plt.figure(figsize = (10,10))\n",
    "  ax = fig.add_subplot(111)\n",
    "  scatter = ax.scatter(data[:,0],data[:,1])"
   ]
  },
  {
   "cell_type": "code",
   "execution_count": null,
   "metadata": {},
   "outputs": [],
   "source": [
    "from sklearn.discriminant_analysis import LinearDiscriminantAnalysis\n",
    "from sklearn.preprocessing import StandardScaler\n",
    "\n",
    "output_scaled = StandardScaler().fit_transform(testoutputs)\n",
    "lda = LinearDiscriminantAnalysis(n_component = 2)\n",
    "lda.fit(output_scaled, testlabels)\n",
    "\n",
    "output_lda = lda.transform(output_scaled)\n",
    "plot_representation(output_lda, testlabels)"
   ]
  },
  {
   "cell_type": "code",
   "execution_count": null,
   "metadata": {},
   "outputs": [],
   "source": [
    "tsne = manifold.TSNE(n_components=2, learning_rate = 200)\n",
    "output_tsne = tsne.fit_tranform(output_scaled)\n",
    "plot_representation(output_tsne, testlabels)"
   ]
  },
  {
   "cell_type": "code",
   "execution_count": null,
   "metadata": {},
   "outputs": [],
   "source": [
    "from typing import Text\n",
    "from sklearn.cluster import MeanShift, estimate_bandwidth\n",
    "from itertools import cycle\n",
    "\n",
    "bandwidth = estimate_bandwidth(output_lda, quantile = .1)\n",
    "ms = MeanShift(bandwidth = bandwidth + .3)\n",
    "ms.fit(output_lda)\n",
    "labels = ms.labels_\n",
    "cluster_centers = ms.cluster_centers_\n",
    "clusters = labels.max()+1\n",
    "\n",
    "color = cycle('rgbcmyk')\n",
    "for i, col in zip(range(clusters),color):\n",
    "  my_member = labels == i\n",
    "  cluster_center = cluster_centers[i]\n",
    "  plt.plot(output_lda[my_member,0], output_lda[my_member,1],col + '.')\n",
    "  plt.plot(cluster_center[0], cluster_center[1], 'o', \n",
    "           markerfacecolor = col, markeredgecolor = 'k', markersize = 12)\n",
    "  print('Estimated clusters : %d' % clusters)\n",
    "  \n",
    "  plt.show()"
   ]
  },
  {
   "cell_type": "code",
   "execution_count": null,
   "metadata": {},
   "outputs": [],
   "source": [
    "bandwidth = estimate_bandwidth(output_tsne, quantile = .1)\n",
    "ms = MeanShift(bandwidth = bandwidth + .3)\n",
    "ms.fit(output_tsne)\n",
    "labels = ms.labels_\n",
    "cluster_centers = ms.cluster_centers_\n",
    "clusters = labels.max()+1\n",
    "\n",
    "color = cycle('rgbcmyk')\n",
    "for i, col in zip(range(clusters),color):\n",
    "  my_member = labels == i\n",
    "  cluster_center = cluster_centers[i]\n",
    "  plt.plot(output_tsne[my_member,0], output_tsne[my_member,1],col + '.')\n",
    "  plt.plot(cluster_center[0], cluster_center[1], 'o', \n",
    "           markerfacecolor = col, markeredgecolor = 'k', markersize = 12)\n",
    "  print('Estimated clusters : %d' % clusters)\n",
    "  \n",
    "  plt.show()"
   ]
  }
 ],
 "metadata": {
  "language_info": {
   "name": "python"
  },
  "orig_nbformat": 4
 },
 "nbformat": 4,
 "nbformat_minor": 2
}
